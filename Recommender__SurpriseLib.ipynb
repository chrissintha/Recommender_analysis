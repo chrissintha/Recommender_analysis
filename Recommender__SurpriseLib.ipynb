{
  "nbformat": 4,
  "nbformat_minor": 0,
  "metadata": {
    "colab": {
      "name": "Recommender _SurpriseLib.ipynb",
      "provenance": [],
      "authorship_tag": "ABX9TyOzK9V6sUJgw2+VYBES/Aoc",
      "include_colab_link": true
    },
    "kernelspec": {
      "name": "python3",
      "display_name": "Python 3"
    },
    "language_info": {
      "name": "python"
    }
  },
  "cells": [
    {
      "cell_type": "markdown",
      "metadata": {
        "id": "view-in-github",
        "colab_type": "text"
      },
      "source": [
        "<a href=\"https://colab.research.google.com/github/chrissintha/Recommender_analysis/blob/main/Recommender__SurpriseLib.ipynb\" target=\"_parent\"><img src=\"https://colab.research.google.com/assets/colab-badge.svg\" alt=\"Open In Colab\"/></a>"
      ]
    },
    {
      "cell_type": "code",
      "execution_count": 33,
      "metadata": {
        "id": "KQiLbaN2iJ6J"
      },
      "outputs": [],
      "source": [
        "import pandas as pd\n",
        "\n",
        "chefmozaccepts=pd.read_csv('https://raw.githubusercontent.com/chrissintha/RestaurantRecommender/main/csv_food/chefmozaccepts.csv')\n",
        "\n",
        "chefmozcuisine=pd.read_csv('https://raw.githubusercontent.com/chrissintha/RestaurantRecommender/main/csv_food/chefmozcuisine.csv')\n",
        "\n",
        "chefmozhours4=pd.read_csv('https://raw.githubusercontent.com/chrissintha/RestaurantRecommender/main/csv_food/chefmozhours4.csv')\n",
        "\n",
        "chefmozparking=pd.read_csv('https://raw.githubusercontent.com/chrissintha/RestaurantRecommender/main/csv_food/chefmozparking.csv')\n",
        "\n",
        "geoplaces2=pd.read_csv('https://raw.githubusercontent.com/chrissintha/RestaurantRecommender/main/csv_food/geoplaces2.csv')\n",
        "\n",
        "rating_final=pd.read_csv('https://raw.githubusercontent.com/chrissintha/RestaurantRecommender/main/csv_food/rating_final.csv')\n",
        "\n",
        "usercuisine=pd.read_csv('https://raw.githubusercontent.com/chrissintha/RestaurantRecommender/main/csv_food/usercuisine.csv')\n",
        "\n",
        "userpayment=pd.read_csv('https://raw.githubusercontent.com/chrissintha/RestaurantRecommender/main/csv_food/userpayment.csv')\n",
        "\n",
        "userprofile=pd.read_csv('https://raw.githubusercontent.com/chrissintha/RestaurantRecommender/main/csv_food/userprofile.csv')"
      ]
    },
    {
      "cell_type": "code",
      "source": [
        "rating_final.info()"
      ],
      "metadata": {
        "colab": {
          "base_uri": "https://localhost:8080/"
        },
        "id": "9gD-O8v1ill1",
        "outputId": "02073e0b-1e39-44d5-e200-305c1fddb410"
      },
      "execution_count": 34,
      "outputs": [
        {
          "output_type": "stream",
          "name": "stdout",
          "text": [
            "<class 'pandas.core.frame.DataFrame'>\n",
            "RangeIndex: 1161 entries, 0 to 1160\n",
            "Data columns (total 5 columns):\n",
            " #   Column          Non-Null Count  Dtype \n",
            "---  ------          --------------  ----- \n",
            " 0   userID          1161 non-null   object\n",
            " 1   placeID         1161 non-null   int64 \n",
            " 2   rating          1161 non-null   int64 \n",
            " 3   food_rating     1161 non-null   int64 \n",
            " 4   service_rating  1161 non-null   int64 \n",
            "dtypes: int64(4), object(1)\n",
            "memory usage: 45.5+ KB\n"
          ]
        }
      ]
    },
    {
      "cell_type": "code",
      "source": [
        "rating_final['placeID'] = rating_final['placeID'].astype(str)"
      ],
      "metadata": {
        "id": "ZEBhy_L7ldsl"
      },
      "execution_count": 35,
      "outputs": []
    },
    {
      "cell_type": "code",
      "source": [
        "!pip install surprise"
      ],
      "metadata": {
        "colab": {
          "base_uri": "https://localhost:8080/"
        },
        "id": "uG0lW2hpjEOE",
        "outputId": "7b74ac95-6d3b-4f68-8dd2-c938352e30d7"
      },
      "execution_count": 36,
      "outputs": [
        {
          "output_type": "stream",
          "name": "stdout",
          "text": [
            "Looking in indexes: https://pypi.org/simple, https://us-python.pkg.dev/colab-wheels/public/simple/\n",
            "Requirement already satisfied: surprise in /usr/local/lib/python3.7/dist-packages (0.1)\n",
            "Requirement already satisfied: scikit-surprise in /usr/local/lib/python3.7/dist-packages (from surprise) (1.1.1)\n",
            "Requirement already satisfied: scipy>=1.0.0 in /usr/local/lib/python3.7/dist-packages (from scikit-surprise->surprise) (1.4.1)\n",
            "Requirement already satisfied: joblib>=0.11 in /usr/local/lib/python3.7/dist-packages (from scikit-surprise->surprise) (1.1.0)\n",
            "Requirement already satisfied: numpy>=1.11.2 in /usr/local/lib/python3.7/dist-packages (from scikit-surprise->surprise) (1.21.6)\n",
            "Requirement already satisfied: six>=1.10.0 in /usr/local/lib/python3.7/dist-packages (from scikit-surprise->surprise) (1.15.0)\n"
          ]
        }
      ]
    },
    {
      "cell_type": "code",
      "source": [
        "from surprise import SVD\n",
        "from surprise import Dataset\n",
        "from surprise.model_selection import cross_validate\n",
        "import pandas as pd\n",
        "from surprise import Reader\n",
        "from surprise import accuracy\n",
        "from surprise.model_selection import KFold"
      ],
      "metadata": {
        "id": "lkG2IHitiaZp"
      },
      "execution_count": 37,
      "outputs": []
    },
    {
      "cell_type": "markdown",
      "source": [
        "SVD"
      ],
      "metadata": {
        "id": "9e9SyoeU40No"
      }
    },
    {
      "cell_type": "code",
      "source": [
        "algo = SVD()\n",
        "rating = rating_final.filter(['userID','placeID', 'rating'])"
      ],
      "metadata": {
        "id": "tPCWFwSFk5JI"
      },
      "execution_count": 38,
      "outputs": []
    },
    {
      "cell_type": "code",
      "source": [
        "reader = Reader(line_format='user item rating', rating_scale=(0, 2))"
      ],
      "metadata": {
        "id": "PREs5C3GmhS1"
      },
      "execution_count": 39,
      "outputs": []
    },
    {
      "cell_type": "code",
      "source": [
        "rating_final.set_index('userID')"
      ],
      "metadata": {
        "colab": {
          "base_uri": "https://localhost:8080/",
          "height": 454
        },
        "id": "ncU2sZRcpTlA",
        "outputId": "7c7ef917-6cd3-4593-9b4c-2cf97a4f05db"
      },
      "execution_count": 40,
      "outputs": [
        {
          "output_type": "execute_result",
          "data": {
            "text/plain": [
              "       placeID  rating  food_rating  service_rating\n",
              "userID                                             \n",
              "U1077   135085       2            2               2\n",
              "U1077   135038       2            2               1\n",
              "U1077   132825       2            2               2\n",
              "U1077   135060       1            2               2\n",
              "U1068   135104       1            1               2\n",
              "...        ...     ...          ...             ...\n",
              "U1043   132630       1            1               1\n",
              "U1011   132715       1            1               0\n",
              "U1068   132733       1            1               0\n",
              "U1068   132594       1            1               1\n",
              "U1068   132660       0            0               0\n",
              "\n",
              "[1161 rows x 4 columns]"
            ],
            "text/html": [
              "\n",
              "  <div id=\"df-6a078edc-2c11-4108-becf-6ed9206d433a\">\n",
              "    <div class=\"colab-df-container\">\n",
              "      <div>\n",
              "<style scoped>\n",
              "    .dataframe tbody tr th:only-of-type {\n",
              "        vertical-align: middle;\n",
              "    }\n",
              "\n",
              "    .dataframe tbody tr th {\n",
              "        vertical-align: top;\n",
              "    }\n",
              "\n",
              "    .dataframe thead th {\n",
              "        text-align: right;\n",
              "    }\n",
              "</style>\n",
              "<table border=\"1\" class=\"dataframe\">\n",
              "  <thead>\n",
              "    <tr style=\"text-align: right;\">\n",
              "      <th></th>\n",
              "      <th>placeID</th>\n",
              "      <th>rating</th>\n",
              "      <th>food_rating</th>\n",
              "      <th>service_rating</th>\n",
              "    </tr>\n",
              "    <tr>\n",
              "      <th>userID</th>\n",
              "      <th></th>\n",
              "      <th></th>\n",
              "      <th></th>\n",
              "      <th></th>\n",
              "    </tr>\n",
              "  </thead>\n",
              "  <tbody>\n",
              "    <tr>\n",
              "      <th>U1077</th>\n",
              "      <td>135085</td>\n",
              "      <td>2</td>\n",
              "      <td>2</td>\n",
              "      <td>2</td>\n",
              "    </tr>\n",
              "    <tr>\n",
              "      <th>U1077</th>\n",
              "      <td>135038</td>\n",
              "      <td>2</td>\n",
              "      <td>2</td>\n",
              "      <td>1</td>\n",
              "    </tr>\n",
              "    <tr>\n",
              "      <th>U1077</th>\n",
              "      <td>132825</td>\n",
              "      <td>2</td>\n",
              "      <td>2</td>\n",
              "      <td>2</td>\n",
              "    </tr>\n",
              "    <tr>\n",
              "      <th>U1077</th>\n",
              "      <td>135060</td>\n",
              "      <td>1</td>\n",
              "      <td>2</td>\n",
              "      <td>2</td>\n",
              "    </tr>\n",
              "    <tr>\n",
              "      <th>U1068</th>\n",
              "      <td>135104</td>\n",
              "      <td>1</td>\n",
              "      <td>1</td>\n",
              "      <td>2</td>\n",
              "    </tr>\n",
              "    <tr>\n",
              "      <th>...</th>\n",
              "      <td>...</td>\n",
              "      <td>...</td>\n",
              "      <td>...</td>\n",
              "      <td>...</td>\n",
              "    </tr>\n",
              "    <tr>\n",
              "      <th>U1043</th>\n",
              "      <td>132630</td>\n",
              "      <td>1</td>\n",
              "      <td>1</td>\n",
              "      <td>1</td>\n",
              "    </tr>\n",
              "    <tr>\n",
              "      <th>U1011</th>\n",
              "      <td>132715</td>\n",
              "      <td>1</td>\n",
              "      <td>1</td>\n",
              "      <td>0</td>\n",
              "    </tr>\n",
              "    <tr>\n",
              "      <th>U1068</th>\n",
              "      <td>132733</td>\n",
              "      <td>1</td>\n",
              "      <td>1</td>\n",
              "      <td>0</td>\n",
              "    </tr>\n",
              "    <tr>\n",
              "      <th>U1068</th>\n",
              "      <td>132594</td>\n",
              "      <td>1</td>\n",
              "      <td>1</td>\n",
              "      <td>1</td>\n",
              "    </tr>\n",
              "    <tr>\n",
              "      <th>U1068</th>\n",
              "      <td>132660</td>\n",
              "      <td>0</td>\n",
              "      <td>0</td>\n",
              "      <td>0</td>\n",
              "    </tr>\n",
              "  </tbody>\n",
              "</table>\n",
              "<p>1161 rows × 4 columns</p>\n",
              "</div>\n",
              "      <button class=\"colab-df-convert\" onclick=\"convertToInteractive('df-6a078edc-2c11-4108-becf-6ed9206d433a')\"\n",
              "              title=\"Convert this dataframe to an interactive table.\"\n",
              "              style=\"display:none;\">\n",
              "        \n",
              "  <svg xmlns=\"http://www.w3.org/2000/svg\" height=\"24px\"viewBox=\"0 0 24 24\"\n",
              "       width=\"24px\">\n",
              "    <path d=\"M0 0h24v24H0V0z\" fill=\"none\"/>\n",
              "    <path d=\"M18.56 5.44l.94 2.06.94-2.06 2.06-.94-2.06-.94-.94-2.06-.94 2.06-2.06.94zm-11 1L8.5 8.5l.94-2.06 2.06-.94-2.06-.94L8.5 2.5l-.94 2.06-2.06.94zm10 10l.94 2.06.94-2.06 2.06-.94-2.06-.94-.94-2.06-.94 2.06-2.06.94z\"/><path d=\"M17.41 7.96l-1.37-1.37c-.4-.4-.92-.59-1.43-.59-.52 0-1.04.2-1.43.59L10.3 9.45l-7.72 7.72c-.78.78-.78 2.05 0 2.83L4 21.41c.39.39.9.59 1.41.59.51 0 1.02-.2 1.41-.59l7.78-7.78 2.81-2.81c.8-.78.8-2.07 0-2.86zM5.41 20L4 18.59l7.72-7.72 1.47 1.35L5.41 20z\"/>\n",
              "  </svg>\n",
              "      </button>\n",
              "      \n",
              "  <style>\n",
              "    .colab-df-container {\n",
              "      display:flex;\n",
              "      flex-wrap:wrap;\n",
              "      gap: 12px;\n",
              "    }\n",
              "\n",
              "    .colab-df-convert {\n",
              "      background-color: #E8F0FE;\n",
              "      border: none;\n",
              "      border-radius: 50%;\n",
              "      cursor: pointer;\n",
              "      display: none;\n",
              "      fill: #1967D2;\n",
              "      height: 32px;\n",
              "      padding: 0 0 0 0;\n",
              "      width: 32px;\n",
              "    }\n",
              "\n",
              "    .colab-df-convert:hover {\n",
              "      background-color: #E2EBFA;\n",
              "      box-shadow: 0px 1px 2px rgba(60, 64, 67, 0.3), 0px 1px 3px 1px rgba(60, 64, 67, 0.15);\n",
              "      fill: #174EA6;\n",
              "    }\n",
              "\n",
              "    [theme=dark] .colab-df-convert {\n",
              "      background-color: #3B4455;\n",
              "      fill: #D2E3FC;\n",
              "    }\n",
              "\n",
              "    [theme=dark] .colab-df-convert:hover {\n",
              "      background-color: #434B5C;\n",
              "      box-shadow: 0px 1px 3px 1px rgba(0, 0, 0, 0.15);\n",
              "      filter: drop-shadow(0px 1px 2px rgba(0, 0, 0, 0.3));\n",
              "      fill: #FFFFFF;\n",
              "    }\n",
              "  </style>\n",
              "\n",
              "      <script>\n",
              "        const buttonEl =\n",
              "          document.querySelector('#df-6a078edc-2c11-4108-becf-6ed9206d433a button.colab-df-convert');\n",
              "        buttonEl.style.display =\n",
              "          google.colab.kernel.accessAllowed ? 'block' : 'none';\n",
              "\n",
              "        async function convertToInteractive(key) {\n",
              "          const element = document.querySelector('#df-6a078edc-2c11-4108-becf-6ed9206d433a');\n",
              "          const dataTable =\n",
              "            await google.colab.kernel.invokeFunction('convertToInteractive',\n",
              "                                                     [key], {});\n",
              "          if (!dataTable) return;\n",
              "\n",
              "          const docLinkHtml = 'Like what you see? Visit the ' +\n",
              "            '<a target=\"_blank\" href=https://colab.research.google.com/notebooks/data_table.ipynb>data table notebook</a>'\n",
              "            + ' to learn more about interactive tables.';\n",
              "          element.innerHTML = '';\n",
              "          dataTable['output_type'] = 'display_data';\n",
              "          await google.colab.output.renderOutput(dataTable, element);\n",
              "          const docLink = document.createElement('div');\n",
              "          docLink.innerHTML = docLinkHtml;\n",
              "          element.appendChild(docLink);\n",
              "        }\n",
              "      </script>\n",
              "    </div>\n",
              "  </div>\n",
              "  "
            ]
          },
          "metadata": {},
          "execution_count": 40
        }
      ]
    },
    {
      "cell_type": "code",
      "source": [
        "\n",
        "# The columns must correspond to user id, item id and ratings (in that order).\n",
        "data = Dataset.load_from_df(rating_final[['userID', 'placeID', 'rating']], reader)"
      ],
      "metadata": {
        "id": "TcZM9zaOn4bc"
      },
      "execution_count": 41,
      "outputs": []
    },
    {
      "cell_type": "code",
      "source": [
        "cross_validate(algo, data, measures=['RMSE', 'MAE'], cv=5, verbose=True)\n",
        "# We can now use this dataset as we please, e.g. calling cross_validate\n"
      ],
      "metadata": {
        "colab": {
          "base_uri": "https://localhost:8080/"
        },
        "id": "_WPEZS54lpgh",
        "outputId": "d34eb8e6-c3da-43f9-dadf-fe204b2e7336"
      },
      "execution_count": 42,
      "outputs": [
        {
          "output_type": "stream",
          "name": "stdout",
          "text": [
            "Evaluating RMSE, MAE of algorithm SVD on 5 split(s).\n",
            "\n",
            "                  Fold 1  Fold 2  Fold 3  Fold 4  Fold 5  Mean    Std     \n",
            "RMSE (testset)    0.6730  0.6429  0.6707  0.6701  0.7020  0.6717  0.0187  \n",
            "MAE (testset)     0.5707  0.5570  0.5707  0.5554  0.6006  0.5709  0.0162  \n",
            "Fit time          0.06    0.06    0.05    0.05    0.05    0.06    0.01    \n",
            "Test time         0.00    0.00    0.00    0.00    0.00    0.00    0.00    \n"
          ]
        },
        {
          "output_type": "execute_result",
          "data": {
            "text/plain": [
              "{'fit_time': (0.05789542198181152,\n",
              "  0.0648188591003418,\n",
              "  0.0502476692199707,\n",
              "  0.05219388008117676,\n",
              "  0.05247330665588379),\n",
              " 'test_mae': array([0.57068179, 0.55702605, 0.57067802, 0.5554269 , 0.60062191]),\n",
              " 'test_rmse': array([0.67301512, 0.64288067, 0.67068265, 0.67010199, 0.70198864]),\n",
              " 'test_time': (0.0027544498443603516,\n",
              "  0.002859830856323242,\n",
              "  0.001844167709350586,\n",
              "  0.0016140937805175781,\n",
              "  0.0015892982482910156)}"
            ]
          },
          "metadata": {},
          "execution_count": 42
        }
      ]
    },
    {
      "cell_type": "code",
      "source": [
        "from surprise import NormalPredictor\n",
        "cross_validate(NormalPredictor(), data, cv=2)"
      ],
      "metadata": {
        "colab": {
          "base_uri": "https://localhost:8080/"
        },
        "id": "arfC3WxVHJlj",
        "outputId": "28992844-77a1-4804-c2f8-9cf60d5f72d6"
      },
      "execution_count": 43,
      "outputs": [
        {
          "output_type": "execute_result",
          "data": {
            "text/plain": [
              "{'fit_time': (0.0012385845184326172, 0.0007843971252441406),\n",
              " 'test_mae': array([0.82434665, 0.79069324]),\n",
              " 'test_rmse': array([1.01084858, 0.98211041]),\n",
              " 'test_time': (0.008124113082885742, 0.0037958621978759766)}"
            ]
          },
          "metadata": {},
          "execution_count": 43
        }
      ]
    },
    {
      "cell_type": "markdown",
      "source": [
        ""
      ],
      "metadata": {
        "id": "DL7lCN9p8CIG"
      }
    },
    {
      "cell_type": "code",
      "source": [
        "from surprise import SVD\n",
        "from surprise import Dataset\n",
        "from surprise import accuracy\n",
        "from surprise.model_selection import train_test_split\n",
        "\n",
        "# sample random trainset and testset\n",
        "# test set is made of 25% of the ratings.\n",
        "trainset, testset = train_test_split(data, test_size=.25)\n",
        "\n",
        "# We'll use the famous SVD algorithm.\n",
        "algo = SVD()\n",
        "\n",
        "# Train the algorithm on the trainset, and predict ratings for the testset\n",
        "algo.fit(trainset)\n",
        "predictions = algo.test(testset)\n",
        "\n",
        "# Then compute RMSE\n",
        "accuracy.rmse(predictions)"
      ],
      "metadata": {
        "colab": {
          "base_uri": "https://localhost:8080/"
        },
        "id": "bFw69G1j8BNu",
        "outputId": "6f1bddb9-20f8-438c-aa70-3434997c2100"
      },
      "execution_count": 44,
      "outputs": [
        {
          "output_type": "stream",
          "name": "stdout",
          "text": [
            "RMSE: 0.7224\n"
          ]
        },
        {
          "output_type": "execute_result",
          "data": {
            "text/plain": [
              "0.7224142575269296"
            ]
          },
          "metadata": {},
          "execution_count": 44
        }
      ]
    },
    {
      "cell_type": "code",
      "source": [
        "predictions = algo.fit(trainset).test(testset)"
      ],
      "metadata": {
        "id": "hsRieLjy8WlA"
      },
      "execution_count": 45,
      "outputs": []
    },
    {
      "cell_type": "markdown",
      "source": [
        "Train on a whole trainset and the predict() method"
      ],
      "metadata": {
        "id": "hBXKWaQq8bER"
      }
    },
    {
      "cell_type": "code",
      "source": [
        "from surprise import KNNBasic\n",
        "from surprise import Dataset\n",
        "\n",
        "# Retrieve the trainset.\n",
        "trainset = data.build_full_trainset()\n",
        "\n",
        "# Build an algorithm, and train it.\n",
        "algo = KNNBasic()\n",
        "algo.fit(trainset)"
      ],
      "metadata": {
        "colab": {
          "base_uri": "https://localhost:8080/"
        },
        "id": "mXtNEhOg8buH",
        "outputId": "01555642-f380-414e-b385-81cd0af7dbd3"
      },
      "execution_count": 46,
      "outputs": [
        {
          "output_type": "stream",
          "name": "stdout",
          "text": [
            "Computing the msd similarity matrix...\n",
            "Done computing similarity matrix.\n"
          ]
        },
        {
          "output_type": "execute_result",
          "data": {
            "text/plain": [
              "<surprise.prediction_algorithms.knns.KNNBasic at 0x7f8ec6f622d0>"
            ]
          },
          "metadata": {},
          "execution_count": 46
        }
      ]
    },
    {
      "cell_type": "code",
      "source": [
        "userID = str('U1077')  # raw user id (as in the ratings file). They are **strings**!\n",
        "placeID = str(132660)  # raw item id (as in the ratings file). They are **strings**!\n",
        "\n",
        "# get a prediction for specific users and items.\n",
        "pred = algo.predict(userID, placeID, r_ui=4, verbose=True)"
      ],
      "metadata": {
        "colab": {
          "base_uri": "https://localhost:8080/"
        },
        "id": "5rxKthp98go1",
        "outputId": "4b5e7d14-8fe5-4c93-82ea-62979d2998b0"
      },
      "execution_count": 47,
      "outputs": [
        {
          "output_type": "stream",
          "name": "stdout",
          "text": [
            "user: U1077      item: 132660     r_ui = 4.00   est = 1.20   {'was_impossible': True, 'reason': 'Not enough neighbors.'}\n"
          ]
        }
      ]
    },
    {
      "cell_type": "markdown",
      "source": [
        "KFold(n_splits=3)"
      ],
      "metadata": {
        "id": "N3SYweje8Hpo"
      }
    },
    {
      "cell_type": "code",
      "source": [
        "kf = KFold(n_splits=3)\n",
        "\n",
        "algo = SVD()\n",
        "\n",
        "for trainset, testset in kf.split(data):\n",
        "\n",
        "    # train and test algorithm.\n",
        "    algo.fit(trainset)\n",
        "    predictions = algo.test(testset)\n",
        "\n",
        "    # Compute and print Root Mean Squared Error\n",
        "    accuracy.rmse(predictions, verbose=True)"
      ],
      "metadata": {
        "colab": {
          "base_uri": "https://localhost:8080/"
        },
        "id": "jmdZSKG6qK6r",
        "outputId": "c2cc0813-5314-4200-8895-acb91fe0eeb5"
      },
      "execution_count": 48,
      "outputs": [
        {
          "output_type": "stream",
          "name": "stdout",
          "text": [
            "RMSE: 0.6680\n",
            "RMSE: 0.6923\n",
            "RMSE: 0.7117\n"
          ]
        }
      ]
    },
    {
      "cell_type": "markdown",
      "source": [
        "GridSearchCV"
      ],
      "metadata": {
        "id": "yY9muxzk4qqG"
      }
    },
    {
      "cell_type": "code",
      "source": [
        "from surprise import SVD\n",
        "from surprise import Dataset\n",
        "from surprise.model_selection import GridSearchCV\n",
        "\n",
        "param_grid = {'n_epochs': [5, 10], 'lr_all': [0.002, 0.005],\n",
        "              'reg_all': [0.4, 0.6]}\n",
        "gs = GridSearchCV(SVD, param_grid, measures=['rmse', 'mae'], cv=3)\n",
        "\n",
        "gs.fit(data)\n",
        "\n",
        "# best RMSE score\n",
        "print(gs.best_score['rmse'])\n",
        "\n",
        "# combination of parameters that gave the best RMSE score\n",
        "print(gs.best_params['rmse'])"
      ],
      "metadata": {
        "colab": {
          "base_uri": "https://localhost:8080/"
        },
        "id": "PWcLzA7sqbo4",
        "outputId": "b93b791f-9c57-435f-b9b8-d140a7f65679"
      },
      "execution_count": 49,
      "outputs": [
        {
          "output_type": "stream",
          "name": "stdout",
          "text": [
            "0.7147362803662592\n",
            "{'n_epochs': 10, 'lr_all': 0.005, 'reg_all': 0.4}\n"
          ]
        }
      ]
    },
    {
      "cell_type": "markdown",
      "source": [
        ""
      ],
      "metadata": {
        "id": "fBKL9n__4223"
      }
    },
    {
      "cell_type": "code",
      "source": [
        "# We can now use the algorithm that yields the best rmse:\n",
        "algo = gs.best_estimator['rmse']\n",
        "algo.fit(data.build_full_trainset())"
      ],
      "metadata": {
        "colab": {
          "base_uri": "https://localhost:8080/"
        },
        "id": "aLqyNgc943Bp",
        "outputId": "131b29f2-129f-41cd-e63f-552b9ab90a7d"
      },
      "execution_count": 50,
      "outputs": [
        {
          "output_type": "execute_result",
          "data": {
            "text/plain": [
              "<surprise.prediction_algorithms.matrix_factorization.SVD at 0x7f8ec94e13d0>"
            ]
          },
          "metadata": {},
          "execution_count": 50
        }
      ]
    },
    {
      "cell_type": "markdown",
      "source": [
        "KNN (prediction algorithms)"
      ],
      "metadata": {
        "id": "LKfxxtNh5GhA"
      }
    },
    {
      "cell_type": "code",
      "source": [
        "from surprise import KNNBasic\n",
        "algo = KNNBasic()"
      ],
      "metadata": {
        "id": "_XJPl5FJ5G01"
      },
      "execution_count": 51,
      "outputs": []
    },
    {
      "cell_type": "code",
      "source": [
        "from surprise import BaselineOnly\n",
        "print('Using ALS')\n",
        "bsl_options = {'method': 'als',\n",
        "               'n_epochs': 5,\n",
        "               'reg_u': 12,\n",
        "               'reg_i': 5\n",
        "               }\n",
        "algo = BaselineOnly(bsl_options=bsl_options)"
      ],
      "metadata": {
        "colab": {
          "base_uri": "https://localhost:8080/"
        },
        "id": "UE4M4eC85G9H",
        "outputId": "96b2fbed-0ec4-4d4c-bcf3-ea0726e69cae"
      },
      "execution_count": 52,
      "outputs": [
        {
          "output_type": "stream",
          "name": "stdout",
          "text": [
            "Using ALS\n"
          ]
        }
      ]
    },
    {
      "cell_type": "code",
      "source": [
        "print('Using SGD')\n",
        "bsl_options = {'method': 'sgd',\n",
        "               'learning_rate': .00005,\n",
        "               }\n",
        "algo = BaselineOnly(bsl_options=bsl_options)"
      ],
      "metadata": {
        "colab": {
          "base_uri": "https://localhost:8080/"
        },
        "id": "W8QEWTxm5rNt",
        "outputId": "9bac4cfe-82cd-4449-f8ae-d26f4b63fa0e"
      },
      "execution_count": 53,
      "outputs": [
        {
          "output_type": "stream",
          "name": "stdout",
          "text": [
            "Using SGD\n"
          ]
        }
      ]
    },
    {
      "cell_type": "code",
      "source": [
        "bsl_options = {'method': 'als',\n",
        "               'n_epochs': 20,\n",
        "               }\n",
        "sim_options = {'name': 'pearson_baseline'}\n",
        "algo = KNNBasic(bsl_options=bsl_options, sim_options=sim_options)"
      ],
      "metadata": {
        "id": "JyzfT9yz5s4-"
      },
      "execution_count": 54,
      "outputs": []
    },
    {
      "cell_type": "markdown",
      "source": [
        "Similarity measure configuration"
      ],
      "metadata": {
        "id": "exUIc0h15xEu"
      }
    },
    {
      "cell_type": "markdown",
      "source": [
        ""
      ],
      "metadata": {
        "id": "x2For3o-51fZ"
      }
    },
    {
      "cell_type": "code",
      "source": [
        "sim_options = {'name': 'cosine',\n",
        "               'user_based': False  # compute  similarities between items\n",
        "               }\n",
        "algo = KNNBasic(sim_options=sim_options)"
      ],
      "metadata": {
        "id": "INvXG3ha5xLX"
      },
      "execution_count": 55,
      "outputs": []
    },
    {
      "cell_type": "code",
      "source": [
        "sim_options = {'name': 'pearson_baseline',\n",
        "               'shrinkage': 0  # no shrinkage\n",
        "               }\n",
        "algo = KNNBasic(sim_options=sim_options)"
      ],
      "metadata": {
        "id": "Zyjf0pSU56qP"
      },
      "execution_count": 56,
      "outputs": []
    },
    {
      "cell_type": "markdown",
      "source": [
        "Predictions"
      ],
      "metadata": {
        "id": "s5TP5XCu7tF3"
      }
    },
    {
      "cell_type": "code",
      "source": [
        "# Build an algorithm, and train it.\n",
        "algo = SVD()\n",
        "algo.fit(trainset)\n",
        "userID = str('U1077')  # raw user id (as in the ratings file). They are **strings**!\n",
        "placeID = str(132660)  # raw item id (as in the ratings file). They are **strings**!\n",
        "# get a prediction for specific users and items.\n",
        "pred = algo.predict(userID, placeID)\n",
        "pred"
      ],
      "metadata": {
        "colab": {
          "base_uri": "https://localhost:8080/"
        },
        "id": "ZqEECQ8c7vH3",
        "outputId": "36d31f64-2649-464d-ab10-a55e8714f1c5"
      },
      "execution_count": 57,
      "outputs": [
        {
          "output_type": "execute_result",
          "data": {
            "text/plain": [
              "Prediction(uid='U1077', iid='132660', r_ui=None, est=1.232749985999547, details={'was_impossible': False})"
            ]
          },
          "metadata": {},
          "execution_count": 57
        }
      ]
    },
    {
      "cell_type": "code",
      "source": [
        "from surprise import BaselineOnly\n",
        "from surprise import Dataset\n",
        "from surprise import Reader\n",
        "from surprise.model_selection import cross_validate\n",
        "\n",
        "# We can now use this dataset as we please, e.g. calling cross_validate\n",
        "cross_validate(BaselineOnly(), data, verbose=True)"
      ],
      "metadata": {
        "colab": {
          "base_uri": "https://localhost:8080/"
        },
        "id": "H25Zzw_VGvru",
        "outputId": "641ad6f8-24c4-435f-faf2-f4a21090c85d"
      },
      "execution_count": 58,
      "outputs": [
        {
          "output_type": "stream",
          "name": "stdout",
          "text": [
            "Estimating biases using als...\n",
            "Estimating biases using als...\n",
            "Estimating biases using als...\n",
            "Estimating biases using als...\n",
            "Estimating biases using als...\n",
            "Evaluating RMSE, MAE of algorithm BaselineOnly on 5 split(s).\n",
            "\n",
            "                  Fold 1  Fold 2  Fold 3  Fold 4  Fold 5  Mean    Std     \n",
            "RMSE (testset)    0.7095  0.6846  0.6755  0.6951  0.6853  0.6900  0.0116  \n",
            "MAE (testset)     0.6133  0.5803  0.5817  0.6092  0.5808  0.5931  0.0149  \n",
            "Fit time          0.00    0.01    0.00    0.00    0.00    0.00    0.00    \n",
            "Test time         0.00    0.00    0.00    0.00    0.00    0.00    0.00    \n"
          ]
        },
        {
          "output_type": "execute_result",
          "data": {
            "text/plain": [
              "{'fit_time': (0.0040721893310546875,\n",
              "  0.005808591842651367,\n",
              "  0.0038635730743408203,\n",
              "  0.0036420822143554688,\n",
              "  0.00351715087890625),\n",
              " 'test_mae': array([0.61330782, 0.5802939 , 0.58166403, 0.60920263, 0.58080377]),\n",
              " 'test_rmse': array([0.70949928, 0.68462622, 0.67551675, 0.6951349 , 0.68528421]),\n",
              " 'test_time': (0.0024874210357666016,\n",
              "  0.0018439292907714844,\n",
              "  0.0018384456634521484,\n",
              "  0.0017650127410888672,\n",
              "  0.0016207695007324219)}"
            ]
          },
          "metadata": {},
          "execution_count": 58
        }
      ]
    },
    {
      "cell_type": "code",
      "source": [
        "rating_final1 = rating_final.set_index('userID')\n"
      ],
      "metadata": {
        "id": "t-ycw6wzMJcN"
      },
      "execution_count": 59,
      "outputs": []
    },
    {
      "cell_type": "code",
      "source": [
        "import pandas as pd\n",
        "\n",
        "from surprise import NormalPredictor\n",
        "from surprise import Dataset\n",
        "from surprise import Reader\n",
        "from surprise.model_selection import cross_validate\n",
        "\n",
        "\n",
        "# A reader is still needed but only the rating_scale param is requiered.\n",
        "reader = Reader(rating_scale=(0, 2))\n",
        "\n",
        "# We can now use this dataset as we please, e.g. calling cross_validate\n",
        "cross_validate(NormalPredictor(), data, cv=2)"
      ],
      "metadata": {
        "id": "aUF70FRFG0hK",
        "colab": {
          "base_uri": "https://localhost:8080/"
        },
        "outputId": "183bd1c4-0cc4-42d4-a008-24d50f89d8d2"
      },
      "execution_count": 60,
      "outputs": [
        {
          "output_type": "execute_result",
          "data": {
            "text/plain": [
              "{'fit_time': (0.0013234615325927734, 0.0014569759368896484),\n",
              " 'test_mae': array([0.80728934, 0.7885392 ]),\n",
              " 'test_rmse': array([0.9990907 , 0.97328572]),\n",
              " 'test_time': (0.007975339889526367, 0.0074465274810791016)}"
            ]
          },
          "metadata": {},
          "execution_count": 60
        }
      ]
    },
    {
      "cell_type": "markdown",
      "source": [
        "How to get the top-N recommendations for each user"
      ],
      "metadata": {
        "id": "R79qxeJjMxi5"
      }
    },
    {
      "cell_type": "code",
      "source": [
        "from collections import defaultdict\n",
        "\n",
        "from surprise import SVD\n",
        "from surprise import Dataset\n",
        "\n",
        "\n",
        "def get_top_n(predictions, n=10):\n",
        "    \"\"\"Return the top-N recommendation for each user from a set of predictions.\n",
        "\n",
        "    Args:\n",
        "        predictions(list of Prediction objects): The list of predictions, as\n",
        "            returned by the test method of an algorithm.\n",
        "        n(int): The number of recommendation to output for each user. Default\n",
        "            is 10.\n",
        "\n",
        "    Returns:\n",
        "    A dict where keys are user (raw) ids and values are lists of tuples:\n",
        "        [(raw item id, rating estimation), ...] of size n.\n",
        "    \"\"\"\n",
        "\n",
        "    # First map the predictions to each user.\n",
        "    top_n = defaultdict(list)\n",
        "    for userID, placeID, true_r, est, _ in predictions:\n",
        "        top_n[userID].append((placeID, est))\n",
        "\n",
        "    # Then sort the predictions for each user and retrieve the k highest ones.\n",
        "    for userID, rating in top_n.items():\n",
        "        rating.sort(key=lambda x: x[1], reverse=True)\n",
        "        top_n[userID] = rating[:n]\n",
        "\n",
        "    return top_n\n",
        "\n",
        "\n",
        "# First train an SVD algorithm on the  dataset.\n",
        "\n",
        "# The columns must correspond to user id, item id and ratings (in that order).\n",
        "data = Dataset.load_from_df(rating_final[['userID', 'placeID', 'rating']], reader)\n",
        "trainset = data.build_full_trainset()\n",
        "algo = SVD()\n",
        "algo.fit(trainset)\n",
        "\n",
        "# Than predict ratings for all pairs (u, i) that are NOT in the training set.\n",
        "testset = trainset.build_anti_testset()\n",
        "predictions = algo.test(testset)\n",
        "\n",
        "top_n = get_top_n(predictions, n=10)\n",
        "\n",
        "# Print the recommended items for each user\n",
        "for userID, rating in top_n.items():\n",
        "   #print(userID, [placeID for (placeID, _) in rating])\n",
        "  count=0\n",
        "  if count >10 :\n",
        "      data = {'userID': [userID], 'placeID': [placeID for (placeID, _) in rating]}\n",
        "      user_recom = pd.DataFrame.append(data)\n",
        "      user_recom.to_csv(\"user_rec.csv\",index=False)\n",
        "      count+=1\n",
        "#top_n =pd.DataFrame(top_n)\n",
        "\n",
        "#top_n.to_csv(\"user_based.csv\",index=False)"
      ],
      "metadata": {
        "id": "MiZSSHWrMx9R"
      },
      "execution_count": 61,
      "outputs": []
    },
    {
      "cell_type": "markdown",
      "source": [
        "# New section"
      ],
      "metadata": {
        "id": "cPiCSSRdejUx"
      }
    },
    {
      "cell_type": "markdown",
      "source": [
        "precision@k and recall@k"
      ],
      "metadata": {
        "id": "bZxvk7baPIhd"
      }
    },
    {
      "cell_type": "code",
      "source": [
        "from collections import defaultdict\n",
        "from surprise import Dataset\n",
        "from surprise import SVD\n",
        "from surprise.model_selection import KFold\n",
        "\n",
        "def precision_recall_at_k(predictions, k=10, threshold=3.5):\n",
        "    \"\"\"Return precision and recall at k metrics for each user\"\"\"\n",
        "\n",
        "    # First map the predictions to each user.\n",
        "    user_est_true = defaultdict(list)\n",
        "    for userID, _, true_r, est, _ in predictions:\n",
        "        user_est_true[userID].append((est, true_r))\n",
        "        precisions = dict()\n",
        "\n",
        "    recalls = dict()\n",
        "    for userID, rating in user_est_true.items():\n",
        "\n",
        "        # Sort user ratings by estimated value\n",
        "        rating.sort(key=lambda x: x[0], reverse=True)\n",
        "         \n",
        "        # Number of relevant items\n",
        "        n_rel = sum((true_r >= threshold) for (_, true_r) in rating)\n",
        "\n",
        "        # Number of recommended items in top k\n",
        "        n_rec_k = sum((est >= threshold) for (est, _) in rating[:k])\n",
        "\n",
        "        # Number of relevant and recommended items in top k\n",
        "        n_rel_and_rec_k = sum(((true_r >= threshold) and (est >= threshold))\n",
        "                              for (est, true_r) in rating[:k])\n",
        "\n",
        "        # Precision@K: Proportion of recommended items that are relevant\n",
        "        # When n_rec_k is 0, Precision is undefined. We here set it to 0.\n",
        "\n",
        "        precisions[userID] = n_rel_and_rec_k / n_rec_k if n_rec_k != 0 else 0\n",
        "\n",
        "        # Recall@K: Proportion of relevant items that are recommended\n",
        "        # When n_rel is 0, Recall is undefined. We here set it to 0.\n",
        "\n",
        "        recalls[userID] = n_rel_and_rec_k / n_rel if n_rel != 0 else 0\n",
        "\n",
        "    return precisions, recalls\n",
        "\n",
        "    \n",
        "kf = KFold(n_splits=5)\n",
        "algo = SVD()\n",
        "\n",
        "for trainset, testset in kf.split(data):\n",
        "    algo.fit(trainset)\n",
        "    predictions = algo.test(testset)\n",
        "    precisions, recalls = precision_recall_at_k(predictions, k=5, threshold=4)\n",
        "\n",
        "    # Precision and recall can then be averaged over all users\n",
        "    print(sum(prec for prec in precisions.values()) / len(precisions))\n",
        "    print(sum(rec for rec in recalls.values()) / len(recalls))"
      ],
      "metadata": {
        "colab": {
          "base_uri": "https://localhost:8080/"
        },
        "id": "oZxwweBTPtJr",
        "outputId": "041ff6bf-77d2-416e-c2c0-c280856fd5ed"
      },
      "execution_count": 62,
      "outputs": [
        {
          "output_type": "stream",
          "name": "stdout",
          "text": [
            "0.0\n",
            "0.0\n",
            "0.0\n",
            "0.0\n",
            "0.0\n",
            "0.0\n",
            "0.0\n",
            "0.0\n",
            "0.0\n",
            "0.0\n"
          ]
        }
      ]
    },
    {
      "cell_type": "markdown",
      "source": [
        ""
      ],
      "metadata": {
        "id": "muZYw_xZleTt"
      }
    },
    {
      "cell_type": "markdown",
      "source": [
        "Item Based"
      ],
      "metadata": {
        "id": "PLWNldFJlecX"
      }
    },
    {
      "cell_type": "code",
      "source": [
        "uid = str(rating_final['userID'])  # raw user id (as in the ratings file). They are **strings**!\n",
        "iid = str(rating_final['placeID'])  # raw item id (as in the ratings file). They are **strings**!\n",
        "\n",
        "# get a prediction for specific users and items.\n",
        "p_useritem = algo.predict(uid, iid, r_ui=4, verbose=True)\n",
        "p_useritem"
      ],
      "metadata": {
        "id": "Nmq31IBpodg2",
        "colab": {
          "base_uri": "https://localhost:8080/"
        },
        "outputId": "a4ebc97b-dca1-48e5-f563-b260f180e807"
      },
      "execution_count": 63,
      "outputs": [
        {
          "output_type": "stream",
          "name": "stdout",
          "text": [
            "user: 0       U1077\n",
            "1       U1077\n",
            "2       U1077\n",
            "3       U1077\n",
            "4       U1068\n",
            "        ...  \n",
            "1156    U1043\n",
            "1157    U1011\n",
            "1158    U1068\n",
            "1159    U1068\n",
            "1160    U1068\n",
            "Name: userID, Length: 1161, dtype: object item: 0       135085\n",
            "1       135038\n",
            "2       132825\n",
            "3       135060\n",
            "4       135104\n",
            "         ...  \n",
            "1156    132630\n",
            "1157    132715\n",
            "1158    132733\n",
            "1159    132594\n",
            "1160    132660\n",
            "Name: placeID, Length: 1161, dtype: object r_ui = 4.00   est = 1.21   {'was_impossible': False}\n"
          ]
        },
        {
          "output_type": "execute_result",
          "data": {
            "text/plain": [
              "Prediction(uid='0       U1077\\n1       U1077\\n2       U1077\\n3       U1077\\n4       U1068\\n        ...  \\n1156    U1043\\n1157    U1011\\n1158    U1068\\n1159    U1068\\n1160    U1068\\nName: userID, Length: 1161, dtype: object', iid='0       135085\\n1       135038\\n2       132825\\n3       135060\\n4       135104\\n         ...  \\n1156    132630\\n1157    132715\\n1158    132733\\n1159    132594\\n1160    132660\\nName: placeID, Length: 1161, dtype: object', r_ui=4, est=1.209903121636168, details={'was_impossible': False})"
            ]
          },
          "metadata": {},
          "execution_count": 63
        }
      ]
    }
  ]
}